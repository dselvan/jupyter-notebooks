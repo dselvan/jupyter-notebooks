{
 "cells": [
  {
   "cell_type": "markdown",
   "metadata": {},
   "source": [
    "# My First Notebook"
   ]
  },
  {
   "cell_type": "markdown",
   "metadata": {},
   "source": [
    "Some example code follows "
   ]
  },
  {
   "cell_type": "code",
   "execution_count": null,
   "metadata": {},
   "outputs": [],
   "source": [
    "module PigLatin =\n",
    "    let toPigLatin (word: string) =\n",
    "        let isVowel (c: char) =\n",
    "            match c with\n",
    "            | 'a' | 'e' | 'i' |'o' |'u'\n",
    "            | 'A' | 'E' | 'I' | 'O' | 'U' -> true\n",
    "            |_ -> false\n",
    "\n",
    "        if isVowel word.[0] then\n",
    "            word + \"yay\"\n",
    "        else\n",
    "            word.[1..] + string(word.[0]) + \"ay\""
   ]
  },
  {
   "cell_type": "code",
   "execution_count": 5,
   "metadata": {},
   "outputs": [
    {
     "data": {
      "text/plain": [
       "appleyay"
      ]
     },
     "execution_count": 5,
     "metadata": {},
     "output_type": "execute_result"
    }
   ],
   "source": [
    "PigLatin.toPigLatin \"apple\""
   ]
  }
 ],
 "metadata": {
  "kernelspec": {
   "display_name": ".NET (F#)",
   "language": "F#",
   "name": ".net-fsharp"
  },
  "language_info": {
   "file_extension": ".fs",
   "mimetype": "text/x-fsharp",
   "name": "C#",
   "pygments_lexer": "fsharp",
   "version": "4.5"
  }
 },
 "nbformat": 4,
 "nbformat_minor": 2
}
